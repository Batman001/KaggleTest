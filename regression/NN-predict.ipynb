{
 "cells": [
  {
   "cell_type": "code",
   "execution_count": 1,
   "metadata": {},
   "outputs": [
    {
     "name": "stderr",
     "output_type": "stream",
     "text": [
      "/Users/sunchao/anaconda3/lib/python3.6/site-packages/h5py/__init__.py:34: FutureWarning: Conversion of the second argument of issubdtype from `float` to `np.floating` is deprecated. In future, it will be treated as `np.float64 == np.dtype(float).type`.\n",
      "  from ._conv import register_converters as _register_converters\n",
      "/Users/sunchao/anaconda3/lib/python3.6/site-packages/requests/__init__.py:80: RequestsDependencyWarning: urllib3 (1.23) or chardet (3.0.4) doesn't match a supported version!\n",
      "  RequestsDependencyWarning)\n"
     ]
    }
   ],
   "source": [
    "# coding: utf-8\n",
    "import tensorflow as tf\n",
    "from sklearn.datasets import load_boston\n",
    "import matplotlib.pyplot as plt\n",
    "from sklearn.preprocessing import scale\n",
    "from sklearn.model_selection import train_test_split"
   ]
  },
  {
   "cell_type": "code",
   "execution_count": 2,
   "metadata": {
    "collapsed": true
   },
   "outputs": [],
   "source": [
    "boston = load_boston()\n",
    "# X = scale(boston.data)\n",
    "# y = scale(boston.target.reshape((-1,1)))\n",
    "\n",
    "\n",
    "X_train,X_test,y_train,y_test = train_test_split(boston.data,boston.target,test_size=0.1,random_state=0)\n",
    "X_train = scale(X_train)\n",
    "X_test = scale(X_test)\n",
    "y_train = scale(y_train.reshape((-1,1)))\n",
    "y_test = scale(y_test.reshape((-1,1)))"
   ]
  },
  {
   "cell_type": "code",
   "execution_count": 29,
   "metadata": {
    "collapsed": true
   },
   "outputs": [],
   "source": [
    "X_train,X_test,y_train,y_test = train_test_split(boston.data,boston.target,test_size=0.1,random_state=0)"
   ]
  },
  {
   "cell_type": "code",
   "execution_count": 3,
   "metadata": {},
   "outputs": [
    {
     "data": {
      "text/plain": [
       "(506, 13)"
      ]
     },
     "execution_count": 3,
     "metadata": {},
     "output_type": "execute_result"
    }
   ],
   "source": [
    "boston.data.shape"
   ]
  },
  {
   "cell_type": "code",
   "execution_count": 4,
   "metadata": {},
   "outputs": [
    {
     "name": "stdout",
     "output_type": "stream",
     "text": [
      "自变量---源数据: (506, 13) ；  训练集: (455, 13) ；  测试集: (51, 13)\n",
      "因变量---源数据: (506,) ；  训练集: (455, 1) ；  测试集: (51, 1)\n"
     ]
    }
   ],
   "source": [
    "print(\"自变量---源数据:\",boston.data.shape, \"；  训练集:\",X_train.shape, \"；  测试集:\",X_test.shape)\n",
    "print(\"因变量---源数据:\",boston.target.shape, \"；  训练集:\",y_train.shape, \"；  测试集:\",y_test.shape)\n"
   ]
  },
  {
   "cell_type": "code",
   "execution_count": 5,
   "metadata": {
    "collapsed": true
   },
   "outputs": [],
   "source": [
    "# 网络添加函数\n",
    "def add_layer(inputs, input_size, output_size, activation_function=None):\n",
    "    with tf.variable_scope(\"Weights\"):\n",
    "        Weights = tf.Variable(tf.random_normal(shape=[input_size,output_size]), name=\"weights\")\n",
    "    with tf.variable_scope(\"biases\"):\n",
    "        biases = tf.Variable(tf.zeros(shape=[1, output_size]) + 0.1, name=\"biases\")\n",
    "    with tf.name_scope(\"Wx_plus_b\"):\n",
    "        Wx_plus_b = tf.matmul(inputs, Weights) + biases\n",
    "    with tf.name_scope(\"dropout\"):\n",
    "        Wx_plus_b = tf.nn.dropout(Wx_plus_b, keep_prob=keep_prob_s)\n",
    "    if activation_function is None:\n",
    "        return Wx_plus_b\n",
    "    else:\n",
    "        return activation_function(Wx_plus_b)"
   ]
  },
  {
   "cell_type": "code",
   "execution_count": 6,
   "metadata": {},
   "outputs": [
    {
     "data": {
      "text/plain": [
       "13"
      ]
     },
     "execution_count": 6,
     "metadata": {},
     "output_type": "execute_result"
    }
   ],
   "source": [
    "X_train.shape[1]"
   ]
  },
  {
   "cell_type": "code",
   "execution_count": 7,
   "metadata": {
    "collapsed": true
   },
   "outputs": [],
   "source": [
    "# 定义占位符和网络层数\n",
    "xs = tf.placeholder(shape = [None, X_train.shape[1]], dtype=tf.float32, name=\"inputs\")\n",
    "ys = tf.placeholder(shape = [None, 1], dtype=tf.float32, name=\"y_true\")\n",
    "keep_prob_s = tf.placeholder(dtype=tf.float32)\n",
    "\n",
    "with tf.name_scope(\"layer_1\"):\n",
    "    l1 = add_layer(xs, 13, 10, activation_function=tf.nn.relu)\n",
    "\n",
    "with tf.name_scope(\"y_pred\"):\n",
    "    pred = add_layer(l1, 10, 1)\n",
    "\n",
    "# 保存pred的操作结果，做恢复使用\n",
    "pred = tf.add(pred, 0, name=\"pred\")\n",
    "\n",
    "with tf.name_scope(\"loss\"):\n",
    "    loss = tf.reduce_mean(tf.reduce_sum(tf.square(ys - pred), reduction_indices=[1]))   # MSE误差\n",
    "    tf.summary.scalar(\"loss\", loss)\n",
    "    \n",
    "with tf.name_scope(\"train\"):\n",
    "    train_op = tf.train.GradientDescentOptimizer(learning_rate=0.01).minimize(loss)"
   ]
  },
  {
   "cell_type": "code",
   "execution_count": 8,
   "metadata": {},
   "outputs": [
    {
     "data": {
      "image/png": "[encoded data removed]",
      "text/plain": [
       "<matplotlib.figure.Figure at 0x1a1fde6438>"
      ]
     },
     "metadata": {},
     "output_type": "display_data"
    }
   ],
   "source": [
    "# draw pics\n",
    "fig = plt.figure()\n",
    "ax = fig.add_subplot(1,1,1)\n",
    "ax.plot(range(50),y_train[0:50],'b')  #展示前50个数据\n",
    "ax.set_ylim([-2,5])\n",
    "plt.ion()\n",
    "plt.show()\n",
    "\n",
    "# parameters\n",
    "keep_prob=1  # 防止过拟合，取值一般在0.5到0.8。我这里是1，没有做过拟合处理\n",
    "ITER =5000  # 训练次数\n"
   ]
  },
  {
   "cell_type": "code",
   "execution_count": 9,
   "metadata": {
    "collapsed": true
   },
   "outputs": [],
   "source": [
    "def fit(X,y,ax,n, keep_prob):\n",
    "    init = tf.global_variables_initializer()\n",
    "    feed_dict = {xs:X, ys:y, keep_prob_s:keep_prob}\n",
    "    with tf.Session() as sess:\n",
    "\n",
    "        saver = tf.train.Saver(tf.global_variables(), max_to_keep=15)\n",
    "        merged = tf.summary.merge_all()\n",
    "        writer = tf.summary.FileWriter(logdir=\"nn_boston_log\", graph=sess.graph)  #写tensorbord\n",
    "        sess.run(init)\n",
    "        for i in range(n):\n",
    "            _loss, _ = sess.run([loss,train_op], feed_dict=feed_dict)\n",
    "            \n",
    "            if i % 100 == 0:\n",
    "                print(\"epoch:%d\\tloss:%.5f\" % (i, _loss))\n",
    "                y_pred = sess.run(pred, feed_dict = feed_dict)\n",
    "                rs = sess.run(merged, feed_dict=feed_dict)\n",
    "                writer.add_summary(summary=rs, global_step=i)  #写tensorbord\n",
    "                saver.save(sess=sess, save_path=\"nn_boston_model/nn_boston.model\", global_step=i) # 保存模型\n",
    "                try:\n",
    "                    ax.lines.remove(lines[0])\n",
    "                except:\n",
    "                    pass\n",
    "                lines = ax.plot(range(50), y_pred[0:50], 'r--')\n",
    "                plt.pause(1)\n",
    "                plt.ion()\n",
    "                plt.show()\n",
    "        saver.save(sess=sess, save_path=\"nn_boston_model/nn_boston.model\", global_step=n)  # 保存模型 "
   ]
  },
  {
   "cell_type": "code",
   "execution_count": 10,
   "metadata": {
    "scrolled": true
   },
   "outputs": [
    {
     "name": "stdout",
     "output_type": "stream",
     "text": [
      "epoch:0\tloss:19.53718\n",
      "epoch:100\tloss:0.39409\n",
      "epoch:200\tloss:0.30999\n",
      "epoch:300\tloss:0.27648\n",
      "epoch:400\tloss:0.25516\n",
      "epoch:500\tloss:0.24119\n",
      "epoch:600\tloss:0.23102\n",
      "epoch:700\tloss:0.22282\n",
      "epoch:800\tloss:0.21603\n",
      "epoch:900\tloss:0.21033\n",
      "epoch:1000\tloss:0.20517\n",
      "epoch:1100\tloss:0.20056\n",
      "epoch:1200\tloss:0.19621\n",
      "epoch:1300\tloss:0.19221\n",
      "epoch:1400\tloss:0.18847\n",
      "epoch:1500\tloss:0.18508\n",
      "epoch:1600\tloss:0.18193\n",
      "epoch:1700\tloss:0.17902\n",
      "epoch:1800\tloss:0.17640\n",
      "epoch:1900\tloss:0.17399\n",
      "epoch:2000\tloss:0.17176\n",
      "epoch:2100\tloss:0.16971\n",
      "epoch:2200\tloss:0.16783\n",
      "epoch:2300\tloss:0.16609\n",
      "epoch:2400\tloss:0.16446\n",
      "epoch:2500\tloss:0.16292\n",
      "epoch:2600\tloss:0.16154\n",
      "epoch:2700\tloss:0.16029\n",
      "epoch:2800\tloss:0.15912\n",
      "epoch:2900\tloss:0.15801\n",
      "epoch:3000\tloss:0.15697\n",
      "epoch:3100\tloss:0.15601\n",
      "epoch:3200\tloss:0.15508\n",
      "epoch:3300\tloss:0.15423\n",
      "epoch:3400\tloss:0.15339\n",
      "epoch:3500\tloss:0.15258\n",
      "epoch:3600\tloss:0.15170\n",
      "epoch:3700\tloss:0.15094\n",
      "epoch:3800\tloss:0.15024\n",
      "epoch:3900\tloss:0.14959\n",
      "epoch:4000\tloss:0.14898\n",
      "epoch:4100\tloss:0.14839\n",
      "epoch:4200\tloss:0.14782\n",
      "epoch:4300\tloss:0.14726\n",
      "epoch:4400\tloss:0.14673\n",
      "epoch:4500\tloss:0.14622\n",
      "epoch:4600\tloss:0.14573\n",
      "epoch:4700\tloss:0.14526\n",
      "epoch:4800\tloss:0.14481\n",
      "epoch:4900\tloss:0.14436\n"
     ]
    }
   ],
   "source": [
    "fit(X=X_train,y=y_train,n=ITER,keep_prob=keep_prob,ax=ax)"
   ]
  },
  {
   "cell_type": "markdown",
   "metadata": {},
   "source": [
    "## use model to predict data"
   ]
  },
  {
   "cell_type": "code",
   "execution_count": 17,
   "metadata": {},
   "outputs": [
    {
     "name": "stdout",
     "output_type": "stream",
     "text": [
      "INFO:tensorflow:Restoring parameters from nn_boston_model/nn_boston.model-5000\n"
     ]
    },
    {
     "data": {
      "image/png": "[encoded data removed]",
      "text/plain": [
       "<matplotlib.figure.Figure at 0x1a23049550>"
      ]
     },
     "metadata": {},
     "output_type": "display_data"
    }
   ],
   "source": [
    "X = boston.data\n",
    "y = boston.target\n",
    "# split train and test data\n",
    "X_train,X_test,y_train,y_test = train_test_split(X,y,test_size=0.1,random_state=0)\n",
    "\n",
    "# scale data\n",
    "X_test = scale(X_test)\n",
    "y_test = scale(y_test).reshape((-1,1))\n",
    "\n",
    "def predict(X,y,keep_prob):\n",
    "\n",
    "    with tf.Session() as sess:\n",
    "\n",
    "        # restore saver\n",
    "        saver = tf.train.import_meta_graph(meta_graph_or_file=\"nn_boston_model/nn_boston.model-5000.meta\")\n",
    "        model_file = tf.train.latest_checkpoint(checkpoint_dir=\"nn_boston_model\")\n",
    "        saver.restore(sess=sess,save_path=model_file)\n",
    "\n",
    "        # init graph\n",
    "        graph = tf.get_default_graph()\n",
    "\n",
    "        # get placeholder from graph\n",
    "#         xs = graph.get_tensor_by_name(\"inputs:0\")\n",
    "#         ys = graph.get_tensor_by_name(\"y_true:0\")\n",
    "#         keep_prob_s = graph.get_tensor_by_name(\"keep_prob:0\")\n",
    "\n",
    "        # get operation from graph\n",
    "        pred = graph.get_tensor_by_name(\"pred:0\")\n",
    "\n",
    "        # run pred\n",
    "        feed_dict = {xs: X, ys: y, keep_prob_s: keep_prob}\n",
    "        y_pred = sess.run(pred,feed_dict=feed_dict)\n",
    "\n",
    "    return y_pred.reshape(-1)\n",
    "y_pred = predict(X=X_test,y=y_test,keep_prob=1)\n",
    "# show data\n",
    "plt.plot(range(len(y_test)),y_test,'b')\n",
    "plt.plot(range(len(y_pred)),y_pred,'r--')\n",
    "plt.show()"
   ]
  },
  {
   "cell_type": "code",
   "execution_count": 18,
   "metadata": {},
   "outputs": [
    {
     "data": {
      "text/plain": [
       "(455, 13)"
      ]
     },
     "execution_count": 18,
     "metadata": {},
     "output_type": "execute_result"
    }
   ],
   "source": [
    "X_train.shape"
   ]
  },
  {
   "cell_type": "code",
   "execution_count": 19,
   "metadata": {},
   "outputs": [
    {
     "data": {
      "text/plain": [
       "(455,)"
      ]
     },
     "execution_count": 19,
     "metadata": {},
     "output_type": "execute_result"
    }
   ],
   "source": [
    "y_train.shape"
   ]
  },
  {
   "cell_type": "code",
   "execution_count": 22,
   "metadata": {},
   "outputs": [
    {
     "data": {
      "text/plain": [
       "numpy.ndarray"
      ]
     },
     "execution_count": 22,
     "metadata": {},
     "output_type": "execute_result"
    }
   ],
   "source": [
    "type(y_train)"
   ]
  },
  {
   "cell_type": "code",
   "execution_count": 23,
   "metadata": {},
   "outputs": [
    {
     "data": {
      "text/plain": [
       "array([[1.7899e-01, 0.0000e+00, 9.6900e+00, ..., 1.9200e+01, 3.9329e+02,\n",
       "        1.7600e+01],\n",
       "       [5.3700e-01, 0.0000e+00, 6.2000e+00, ..., 1.7400e+01, 3.7835e+02,\n",
       "        1.1650e+01],\n",
       "       [3.6894e-01, 2.2000e+01, 5.8600e+00, ..., 1.9100e+01, 3.9690e+02,\n",
       "        3.5400e+00],\n",
       "       ...,\n",
       "       [1.5098e-01, 0.0000e+00, 1.0010e+01, ..., 1.7800e+01, 3.9451e+02,\n",
       "        1.0300e+01],\n",
       "       [2.2927e-01, 0.0000e+00, 6.9100e+00, ..., 1.7900e+01, 3.9274e+02,\n",
       "        1.8800e+01],\n",
       "       [1.3914e-01, 0.0000e+00, 4.0500e+00, ..., 1.6600e+01, 3.9690e+02,\n",
       "        1.4690e+01]])"
      ]
     },
     "execution_count": 23,
     "metadata": {},
     "output_type": "execute_result"
    }
   ],
   "source": [
    "X_train"
   ]
  },
  {
   "cell_type": "code",
   "execution_count": 26,
   "metadata": {},
   "outputs": [
    {
     "data": {
      "text/plain": [
       "(455,)"
      ]
     },
     "execution_count": 26,
     "metadata": {},
     "output_type": "execute_result"
    }
   ],
   "source": [
    "y_train.shape"
   ]
  },
  {
   "cell_type": "code",
   "execution_count": 27,
   "metadata": {},
   "outputs": [
    {
     "data": {
      "text/plain": [
       "array([23.1, 24.3, 42.8, 15.6, 21.7, 17.1, 17.2, 15. , 21.7, 18.6, 21. ,\n",
       "       33.1, 31.5, 20.1, 29.8, 15.2, 15. , 27.5, 22.6, 20. , 21.4, 23.5,\n",
       "       31.2, 23.7,  7.4, 48.3, 24.4, 22.6, 18.3, 23.3, 17.1, 27.9, 44.8,\n",
       "       50. , 23. , 21.4, 10.2, 23.3, 23.2, 18.9, 13.4, 21.9, 24.8, 11.9,\n",
       "       24.3, 13.8, 24.7, 14.1, 18.7, 28.1, 19.8, 26.7, 21.7, 22. , 22.9,\n",
       "       10.4, 21.9, 20.6, 26.4, 41.3, 17.2, 27.1, 20.4, 16.5, 24.4,  8.4,\n",
       "       23. ,  9.7, 50. , 30.5, 12.3, 19.4, 21.2, 20.3, 18.8, 33.4, 18.5,\n",
       "       19.6, 33.2, 13.1,  7.5, 13.6, 17.4,  8.4, 35.4, 24. , 13.4, 26.2,\n",
       "        7.2, 13.1, 24.5, 37.2, 25. , 24.1, 16.6, 32.9, 36.2, 11. ,  7.2,\n",
       "       22.8, 28.7, 14.4, 24.4, 18.1, 22.5, 20.5, 15.2, 17.4, 13.6,  8.7,\n",
       "       18.2, 35.4, 31.7, 33. , 22.2, 20.4, 23.9, 25. , 12.7, 29.1, 12. ,\n",
       "       17.7, 27. , 20.6, 10.2, 17.5, 19.7, 29.8, 20.5, 14.9, 10.9, 19.5,\n",
       "       22.7, 19.5, 24.6, 25. , 24.5, 50. , 14.3, 11.8, 31. , 28.7, 16.2,\n",
       "       43.5, 25. , 22. , 19.9, 22.1, 46. , 22.9, 20.2, 43.1, 34.6, 13.8,\n",
       "       24.3, 21.5, 24.4, 21.2, 23.8, 26.6, 25.1,  9.6, 19.4, 19.4,  9.5,\n",
       "       14. , 26.5, 13.8, 34.7, 16.3, 21.7, 17.5, 15.6, 20.9, 21.7, 12.7,\n",
       "       18.5, 23.7, 19.3, 12.7, 21.6, 23.2, 29.6, 21.2, 23.8, 17.1, 22. ,\n",
       "       36.5, 18.8, 21.9, 23.1, 20.2, 17.4, 37. , 24.1, 36.2, 15.7, 32.2,\n",
       "       13.5, 17.9, 13.3, 11.7, 41.7, 18.4, 13.1, 25. , 21.2, 16. , 34.9,\n",
       "       25.2, 24.8, 21.5, 23.4, 18.9, 10.8, 21. , 27.5, 17.5, 13.5, 28.7,\n",
       "       14.8, 19.1, 28.6, 13.1, 19. , 11.3, 13.3, 22.4, 20.1, 18.2, 22.9,\n",
       "       20.6, 25. , 12.8, 34.9, 23.7, 50. , 29. , 30.1, 22. , 15.6, 23.3,\n",
       "       30.1, 14.3, 22.8, 50. , 20.8,  6.3, 34.9, 32.4, 19.9, 20.3, 17.8,\n",
       "       23.1, 20.4, 23.2,  7. , 16.8, 46.7, 50. , 22.9, 23.9, 21.4, 21.7,\n",
       "       15.4, 15.3, 23.1, 23.9, 19.4, 11.9, 17.8, 31.5, 33.8, 20.8, 19.8,\n",
       "       22.4,  5. , 24.5, 19.4, 15.1, 18.2, 19.3, 27.1, 20.7, 37.6, 11.7,\n",
       "       33.4, 30.1, 21.4, 45.4, 20.1, 20.8, 26.4, 10.4, 21.8, 32. , 21.7,\n",
       "       18.4, 37.9, 17.8, 28. , 28.2, 36. , 18.9, 15. , 22.5, 30.7, 20. ,\n",
       "       19.1, 23.3, 26.6, 21.1, 19.7, 20. , 12.1,  7.2, 14.2, 17.3, 27.5,\n",
       "       22.2, 10.9, 19.2, 32. , 14.5, 24.7, 12.6, 24. , 24.1, 50. , 16.1,\n",
       "       43.8, 26.6, 36.1, 21.8, 29.9, 50. , 44. , 20.6, 19.6, 28.4, 19.1,\n",
       "       22.3, 20.9, 28.4, 14.4, 32.7, 13.8,  8.5, 22.5, 35.1, 31.6, 17.8,\n",
       "       15.6, 20.7, 39.8, 17.8, 19.6, 14.9, 22. , 48.8, 25. , 48.5, 23.9,\n",
       "       20.3, 15.2, 10.5, 19. , 16.4,  8.8, 22. , 24.8, 50. , 19.3, 22.7,\n",
       "       37.3, 31.6,  8.3, 23.1, 50. , 13.9, 16.1, 25.3, 19.5, 10.2, 19.9,\n",
       "       35.2, 13.4, 24.7, 11.5, 23.4, 16.7, 15.4, 18. , 28.5, 18.4, 32.5,\n",
       "       50. , 50. , 19.6, 17.6, 42.3, 14.5, 13.2, 16.2, 29.6, 16.7, 13. ,\n",
       "       22.3, 13.4,  5. , 19.5, 14.6, 22. ,  8.1, 24.6, 33.2, 20.6, 14.1,\n",
       "       14.1, 21.1, 30.3, 23.7, 21.4, 18.3,  8.5, 22.8, 22.8, 22.2, 13.9,\n",
       "       25. , 18.5,  7. , 22.6, 20.1, 30.8, 31.1, 23.8, 12.5, 23.6, 23.2,\n",
       "       24.2, 22.2, 27.9, 22.2, 33.1, 19.3, 18.9, 22.6, 50. , 24.8, 18.5,\n",
       "       36.4, 19.2, 16.6, 23.1])"
      ]
     },
     "execution_count": 27,
     "metadata": {},
     "output_type": "execute_result"
    }
   ],
   "source": [
    "y_train"
   ]
  },
  {
   "cell_type": "code",
   "execution_count": null,
   "metadata": {
    "collapsed": true
   },
   "outputs": [],
   "source": []
  }
 ],
 "metadata": {
  "kernelspec": {
   "display_name": "Python 3",
   "language": "python",
   "name": "python3"
  },
  "language_info": {
   "codemirror_mode": {
    "name": "ipython",
    "version": 3
   },
   "file_extension": ".py",
   "mimetype": "text/x-python",
   "name": "python",
   "nbconvert_exporter": "python",
   "pygments_lexer": "ipython3",
   "version": "3.6.1"
  }
 },
 "nbformat": 4,
 "nbformat_minor": 2
}
